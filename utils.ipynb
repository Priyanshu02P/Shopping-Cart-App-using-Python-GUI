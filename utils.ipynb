{
 "cells": [
  {
   "cell_type": "code",
   "execution_count": 1,
   "id": "d848e65a",
   "metadata": {},
   "outputs": [],
   "source": [
    "import pandas as pd\n",
    "import numpy as np"
   ]
  },
  {
   "cell_type": "code",
   "execution_count": 42,
   "id": "b678c9ac",
   "metadata": {},
   "outputs": [],
   "source": [
    "creds = [{\n",
    "    \"ID\" : \"24AIML043\",\n",
    "    \"Password\" : \"8888\"\n",
    "    },{\n",
    "    \"ID\" : \"24AIML046\",\n",
    "    \"Password\" : \"4444\"\n",
    "    }\n",
    "]\n",
    "\n",
    "db = pd.DataFrame(creds,columns=[\"ID\",\"Password\"])"
   ]
  },
  {
   "cell_type": "code",
   "execution_count": 44,
   "id": "6b173193",
   "metadata": {},
   "outputs": [],
   "source": [
    "product = [\n",
    "    {\"ProductID\": 101, \"ProductName\": \"Smartphone XYZ\", \"Category\": \"Electronics\", \"Price\": 299.99},\n",
    "    {\"ProductID\": 102, \"ProductName\": \"Laptop ABC\", \"Category\": \"Electronics\", \"Price\": 899.99},\n",
    "    {\"ProductID\": 103, \"ProductName\": \"Wireless Headphones\", \"Category\": \"Electronics\", \"Price\": 59.99},\n",
    "    {\"ProductID\": 104, \"ProductName\": \"LED TV 50-inch\", \"Category\": \"Electronics\", \"Price\": 499.99},\n",
    "    {\"ProductID\": 105, \"ProductName\": \"Bluetooth Speaker\", \"Category\": \"Electronics\", \"Price\": 79.99},\n",
    "    {\"ProductID\": 106, \"ProductName\": \"Smartwatch\", \"Category\": \"Electronics\", \"Price\": 129.99},\n",
    "    {\"ProductID\": 107, \"ProductName\": \"Gaming Mouse\", \"Category\": \"Electronics\", \"Price\": 39.99},\n",
    "    {\"ProductID\": 108, \"ProductName\": \"Mechanical Keyboard\", \"Category\": \"Electronics\", \"Price\": 69.99},\n",
    "    {\"ProductID\": 109, \"ProductName\": \"Portable Power Bank\", \"Category\": \"Electronics\", \"Price\": 19.99},\n",
    "    {\"ProductID\": 110, \"ProductName\": \"Wireless Charger\", \"Category\": \"Electronics\", \"Price\": 25.99},\n",
    "    \n",
    "    {\"ProductID\": 201, \"ProductName\": \"Running Shoes\", \"Category\": \"Fashion\", \"Price\": 69.99},\n",
    "    {\"ProductID\": 202, \"ProductName\": \"Jeans for Men\", \"Category\": \"Fashion\", \"Price\": 49.99},\n",
    "    {\"ProductID\": 203, \"ProductName\": \"Leather Wallet\", \"Category\": \"Fashion\", \"Price\": 29.99},\n",
    "    {\"ProductID\": 204, \"ProductName\": \"Sunglasses\", \"Category\": \"Fashion\", \"Price\": 19.99},\n",
    "    {\"ProductID\": 205, \"ProductName\": \"Cotton T-shirt\", \"Category\": \"Fashion\", \"Price\": 14.99},\n",
    "    {\"ProductID\": 206, \"ProductName\": \"Watch for Women\", \"Category\": \"Fashion\", \"Price\": 119.99},\n",
    "    {\"ProductID\": 207, \"ProductName\": \"Chinos for Men\", \"Category\": \"Fashion\", \"Price\": 39.99},\n",
    "    {\"ProductID\": 208, \"ProductName\": \"Sneakers for Women\", \"Category\": \"Fashion\", \"Price\": 89.99},\n",
    "    {\"ProductID\": 209, \"ProductName\": \"Formal Shirt\", \"Category\": \"Fashion\", \"Price\": 34.99},\n",
    "    {\"ProductID\": 210, \"ProductName\": \"Jacket for Winter\", \"Category\": \"Fashion\", \"Price\": 99.99},\n",
    "    \n",
    "    {\"ProductID\": 301, \"ProductName\": \"Stainless Steel Water Bottle\", \"Category\": \"Home & Kitchen\", \"Price\": 22.99},\n",
    "    {\"ProductID\": 302, \"ProductName\": \"Air Fryer\", \"Category\": \"Home & Kitchen\", \"Price\": 149.99},\n",
    "    {\"ProductID\": 303, \"ProductName\": \"Coffee Maker\", \"Category\": \"Home & Kitchen\", \"Price\": 89.99},\n",
    "    {\"ProductID\": 304, \"ProductName\": \"Smart Thermostat\", \"Category\": \"Home & Kitchen\", \"Price\": 129.99},\n",
    "    {\"ProductID\": 305, \"ProductName\": \"Electric Kettle\", \"Category\": \"Home & Kitchen\", \"Price\": 34.99},\n",
    "    {\"ProductID\": 306, \"ProductName\": \"Cookware Set\", \"Category\": \"Home & Kitchen\", \"Price\": 159.99},\n",
    "    {\"ProductID\": 307, \"ProductName\": \"Blender\", \"Category\": \"Home & Kitchen\", \"Price\": 49.99},\n",
    "    {\"ProductID\": 308, \"ProductName\": \"Robot Vacuum\", \"Category\": \"Home & Kitchen\", \"Price\": 249.99},\n",
    "    {\"ProductID\": 309, \"ProductName\": \"Toaster\", \"Category\": \"Home & Kitchen\", \"Price\": 29.99},\n",
    "    {\"ProductID\": 310, \"ProductName\": \"Waffle Maker\", \"Category\": \"Home & Kitchen\", \"Price\": 39.99},\n",
    "    \n",
    "    {\"ProductID\": 401, \"ProductName\": \"Novel: The Great Adventure\", \"Category\": \"Books\", \"Price\": 15.99},\n",
    "    {\"ProductID\": 402, \"ProductName\": \"Cookbook: Healthy Eating\", \"Category\": \"Books\", \"Price\": 19.99},\n",
    "    {\"ProductID\": 403, \"ProductName\": \"Children's Book: Adventure Time\", \"Category\": \"Books\", \"Price\": 8.99},\n",
    "    {\"ProductID\": 404, \"ProductName\": \"Science Fiction: Mars Exploration\", \"Category\": \"Books\", \"Price\": 12.99},\n",
    "    {\"ProductID\": 405, \"ProductName\": \"Fantasy Novel: Dragon's Quest\", \"Category\": \"Books\", \"Price\": 16.99},\n",
    "    {\"ProductID\": 406, \"ProductName\": \"Biography: Life of a Legend\", \"Category\": \"Books\", \"Price\": 18.99},\n",
    "    {\"ProductID\": 407, \"ProductName\": \"Self-Help: Mindfulness\", \"Category\": \"Books\", \"Price\": 9.99},\n",
    "    {\"ProductID\": 408, \"ProductName\": \"Mystery Novel: The Secret Code\", \"Category\": \"Books\", \"Price\": 14.99},\n",
    "    {\"ProductID\": 409, \"ProductName\": \"History Book: Ancient Civilizations\", \"Category\": \"Books\", \"Price\": 21.99},\n",
    "    {\"ProductID\": 410, \"ProductName\": \"Travel Guide: Europe Adventure\", \"Category\": \"Books\", \"Price\": 24.99},\n",
    "    \n",
    "    {\"ProductID\": 501, \"ProductName\": \"Yoga Mat\", \"Category\": \"Sports & Outdoors\", \"Price\": 19.99},\n",
    "    {\"ProductID\": 502, \"ProductName\": \"Dumbbells Set\", \"Category\": \"Sports & Outdoors\", \"Price\": 39.99},\n",
    "    {\"ProductID\": 503, \"ProductName\": \"Tennis Racket\", \"Category\": \"Sports & Outdoors\", \"Price\": 49.99},\n",
    "    {\"ProductID\": 504, \"ProductName\": \"Camping Tent\", \"Category\": \"Sports & Outdoors\", \"Price\": 129.99},\n",
    "    {\"ProductID\": 505, \"ProductName\": \"Fishing Rod\", \"Category\": \"Sports & Outdoors\", \"Price\": 24.99},\n",
    "    {\"ProductID\": 506, \"ProductName\": \"Bicycle Helmet\", \"Category\": \"Sports & Outdoors\", \"Price\": 19.99},\n",
    "    {\"ProductID\": 507, \"ProductName\": \"Baseball Gloves\", \"Category\": \"Sports & Outdoors\", \"Price\": 39.99},\n",
    "    {\"ProductID\": 508, \"ProductName\": \"Golf Club Set\", \"Category\": \"Sports & Outdoors\", \"Price\": 499.99},\n",
    "    {\"ProductID\": 509, \"ProductName\": \"Running Shorts\", \"Category\": \"Sports & Outdoors\", \"Price\": 14.99},\n",
    "    {\"ProductID\": 510, \"ProductName\": \"Swimming Goggles\", \"Category\": \"Sports & Outdoors\", \"Price\": 9.99},\n",
    "    \n",
    "    {\"ProductID\": 601, \"ProductName\": \"Pet Bed\", \"Category\": \"Pets\", \"Price\": 49.99},\n",
    "    {\"ProductID\": 602, \"ProductName\": \"Cat Litter Box\", \"Category\": \"Pets\", \"Price\": 19.99},\n",
    "    {\"ProductID\": 603, \"ProductName\": \"Dog Leash\", \"Category\": \"Pets\", \"Price\": 14.99},\n",
    "    {\"ProductID\": 604, \"ProductName\": \"Bird Cage\", \"Category\": \"Pets\", \"Price\": 59.99},\n",
    "    {\"ProductID\": 605, \"ProductName\": \"Dog Food\", \"Category\": \"Pets\", \"Price\": 34.99},\n",
    "    {\"ProductID\": 606, \"ProductName\": \"Cat Food\", \"Category\": \"Pets\", \"Price\": 24.99},\n",
    "    {\"ProductID\": 607, \"ProductName\": \"Pet Toy Set\", \"Category\": \"Pets\", \"Price\": 19.99},\n",
    "    {\"ProductID\": 608, \"ProductName\": \"Dog Collar\", \"Category\": \"Pets\", \"Price\": 9.99},\n",
    "    {\"ProductID\": 609, \"ProductName\": \"Pet Water Fountain\", \"Category\": \"Pets\", \"Price\": 39.99},\n",
    "    {\"ProductID\": 610, \"ProductName\": \"Pet Shampoo\", \"Category\": \"Pets\", \"Price\": 12.99}\n",
    "]\n",
    "\n",
    "productsDB = pd.DataFrame(product,columns=[\"ProductID\",\"ProductName\",\"Category\",\"Price\"])"
   ]
  },
  {
   "cell_type": "code",
   "execution_count": 86,
   "id": "e624d8d1",
   "metadata": {},
   "outputs": [],
   "source": [
    "billDB = pd.DataFrame(columns=[\"ProductID\",\"ProductName\",\"Category\",\"Price\",\"Quantity\"])"
   ]
  },
  {
   "cell_type": "code",
   "execution_count": 21,
   "id": "a9c5a3f5",
   "metadata": {},
   "outputs": [],
   "source": [
    "def checkLogin(DataBase, ID, PassWord)-> bool: \n",
    "    check = DataBase.loc[DataBase[\"ID\"] == ID]\n",
    "    if(check.empty):\n",
    "        return False\n",
    "    if(check.iloc[0][\"Password\"] == PassWord):\n",
    "        return True\n",
    "    else:\n",
    "        return False\n"
   ]
  },
  {
   "cell_type": "code",
   "execution_count": 36,
   "id": "11e5bcdb",
   "metadata": {},
   "outputs": [],
   "source": [
    "def signIn(DataBase, Creds):\n",
    "    if((DataBase.loc[DataBase[\"ID\"] == Creds[\"ID\"]]).empty):\n",
    "        DataBase = pd.concat([DataBase,pd.DataFrame(Creds, index=[0])],ignore_index=True)\n",
    "        Check = True\n",
    "    else:\n",
    "        Check = False\n",
    "        \n",
    "    return DataBase,Check"
   ]
  },
  {
   "cell_type": "code",
   "execution_count": 48,
   "id": "abec0ba0",
   "metadata": {},
   "outputs": [],
   "source": [
    "def randomShuffle(DataBase):\n",
    "    return DataBase.sample(frac=1).reset_index(drop=True)"
   ]
  },
  {
   "cell_type": "code",
   "execution_count": 62,
   "id": "3eb23b65",
   "metadata": {},
   "outputs": [],
   "source": [
    "def sortByCategory(DataBase,Category):\n",
    "    return DataBase.loc[DataBase[\"Category\"] == Category]"
   ]
  },
  {
   "cell_type": "code",
   "execution_count": 66,
   "id": "731cc2e5",
   "metadata": {},
   "outputs": [],
   "source": [
    "def sortByPrice(DataBase):\n",
    "    return DataBase.sort_values(by=\"Price\")"
   ]
  },
  {
   "cell_type": "code",
   "execution_count": 71,
   "id": "aa169280",
   "metadata": {},
   "outputs": [],
   "source": [
    "def getByID(DataBase, ID):\n",
    "    return DataBase.loc[DataBase[\"ProductID\"] == ID]"
   ]
  },
  {
   "cell_type": "code",
   "execution_count": 72,
   "id": "825332a1",
   "metadata": {},
   "outputs": [],
   "source": [
    "def getByName(DataBase, Name):\n",
    "    return DataBase.loc[DataBase[\"ProductName\"] == Name]"
   ]
  },
  {
   "cell_type": "code",
   "execution_count": 111,
   "id": "9df8555d",
   "metadata": {},
   "outputs": [],
   "source": [
    "def addToBill(Bill,Product):\n",
    "    qty = getByID(Bill,int(Product[\"ProductID\"]))\n",
    "    if(qty.empty):\n",
    "        Product = Product.copy()\n",
    "        Product.loc[0,\"Quantity\"] = 1\n",
    "        Bill = pd.concat([Bill,Product],ignore_index=True)\n",
    "    else:\n",
    "        Product = Product.copy()\n",
    "        Product.loc[0,\"Quantity\"] = qty.iloc[0][\"Quantity\"] + 1\n",
    "        Bill.loc[Bill[\"ProductID\"] == Product[\"ProductID\"].iloc[0], \"Quantity\"] = Product[\"Quantity\"].iloc[0]\n",
    "    \n",
    "    \n",
    "    return Bill"
   ]
  },
  {
   "cell_type": "code",
   "execution_count": 123,
   "id": "bc6cf5df",
   "metadata": {},
   "outputs": [],
   "source": [
    "billDB = addToBill(billDB,getByID(productsDB,101))"
   ]
  },
  {
   "cell_type": "code",
   "execution_count": 124,
   "id": "bf7e0e6a",
   "metadata": {},
   "outputs": [
    {
     "data": {
      "text/html": [
       "<div>\n",
       "<style scoped>\n",
       "    .dataframe tbody tr th:only-of-type {\n",
       "        vertical-align: middle;\n",
       "    }\n",
       "\n",
       "    .dataframe tbody tr th {\n",
       "        vertical-align: top;\n",
       "    }\n",
       "\n",
       "    .dataframe thead th {\n",
       "        text-align: right;\n",
       "    }\n",
       "</style>\n",
       "<table border=\"1\" class=\"dataframe\">\n",
       "  <thead>\n",
       "    <tr style=\"text-align: right;\">\n",
       "      <th></th>\n",
       "      <th>ProductID</th>\n",
       "      <th>ProductName</th>\n",
       "      <th>Category</th>\n",
       "      <th>Price</th>\n",
       "      <th>Quantity</th>\n",
       "    </tr>\n",
       "  </thead>\n",
       "  <tbody>\n",
       "    <tr>\n",
       "      <th>0</th>\n",
       "      <td>101</td>\n",
       "      <td>Smartphone XYZ</td>\n",
       "      <td>Electronics</td>\n",
       "      <td>299.99</td>\n",
       "      <td>2.0</td>\n",
       "    </tr>\n",
       "  </tbody>\n",
       "</table>\n",
       "</div>"
      ],
      "text/plain": [
       "  ProductID     ProductName     Category   Price  Quantity\n",
       "0       101  Smartphone XYZ  Electronics  299.99       2.0"
      ]
     },
     "execution_count": 124,
     "metadata": {},
     "output_type": "execute_result"
    }
   ],
   "source": [
    "billDB"
   ]
  },
  {
   "cell_type": "code",
   "execution_count": 116,
   "id": "05574da5",
   "metadata": {},
   "outputs": [],
   "source": [
    "def removeFromBill(Bill, Product):\n",
    "    qty = getByID(Bill, int(Product[\"ProductID\"]))\n",
    "    \n",
    "    if not qty.empty:\n",
    "        if qty.iloc[0][\"Quantity\"] > 1:\n",
    "            Bill.loc[Bill[\"ProductID\"] == Product[\"ProductID\"].iloc[0], \"Quantity\"] -= 1\n",
    "        else:\n",
    "            Bill = Bill[Bill[\"ProductID\"] != Product[\"ProductID\"].iloc[0]]\n",
    "    \n",
    "    return Bill"
   ]
  },
  {
   "cell_type": "code",
   "execution_count": 120,
   "id": "699a47c6",
   "metadata": {},
   "outputs": [],
   "source": [
    "billDB = removeFromBill(billDB,getByID(productsDB,101))"
   ]
  },
  {
   "cell_type": "code",
   "execution_count": null,
   "id": "2077d807",
   "metadata": {},
   "outputs": [],
   "source": []
  }
 ],
 "metadata": {
  "kernelspec": {
   "display_name": "Python 3 (ipykernel)",
   "language": "python",
   "name": "python3"
  },
  "language_info": {
   "codemirror_mode": {
    "name": "ipython",
    "version": 3
   },
   "file_extension": ".py",
   "mimetype": "text/x-python",
   "name": "python",
   "nbconvert_exporter": "python",
   "pygments_lexer": "ipython3",
   "version": "3.10.9"
  }
 },
 "nbformat": 4,
 "nbformat_minor": 5
}
